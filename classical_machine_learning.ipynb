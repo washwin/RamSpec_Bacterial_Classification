{
  "cells": [
    {
      "cell_type": "markdown",
      "metadata": {
        "id": "view-in-github",
        "colab_type": "text"
      },
      "source": [
        "<a href=\"https://colab.research.google.com/github/washwin/RamSpec_Bacterial_Classification/blob/main/classical_machine_learning.ipynb\" target=\"_parent\"><img src=\"https://colab.research.google.com/assets/colab-badge.svg\" alt=\"Open In Colab\"/></a>"
      ]
    },
    {
      "cell_type": "code",
      "execution_count": null,
      "metadata": {
        "id": "OqxMHYDBnlEg"
      },
      "outputs": [],
      "source": [
        "import numpy as np\n",
        "import pandas as pd\n",
        "from sklearn.model_selection import train_test_split\n",
        "from sklearn.metrics import accuracy_score, precision_score, recall_score, f1_score\n",
        "from sklearn.ensemble import RandomForestClassifier, GradientBoostingClassifier, AdaBoostClassifier\n",
        "from sklearn.tree import DecisionTreeClassifier\n",
        "from sklearn.neural_network import MLPClassifier\n",
        "from sklearn.ensemble import StackingClassifier\n",
        "from sklearn.svm import SVC\n",
        "from sklearn.ensemble import VotingClassifier\n",
        "import matplotlib.pyplot as plt\n",
        "import seaborn as sns\n",
        "import warnings"
      ]
    },
    {
      "cell_type": "code",
      "execution_count": null,
      "metadata": {
        "colab": {
          "base_uri": "https://localhost:8080/"
        },
        "id": "pgWH_eprnpJ4",
        "outputId": "75b80e8e-f732-4726-c026-5e6b4657e952"
      },
      "outputs": [
        {
          "output_type": "stream",
          "name": "stdout",
          "text": [
            "Mounted at /content/drive\n"
          ]
        }
      ],
      "source": [
        "from google.colab import drive\n",
        "drive.mount('/content/drive')"
      ]
    },
    {
      "cell_type": "code",
      "execution_count": null,
      "metadata": {
        "id": "AGyFq0C6oNWo"
      },
      "outputs": [],
      "source": [
        "# Load dataset\n",
        "df = pd.read_csv('/content/drive/MyDrive/preprocessed_ds used.csv')\n",
        "# df = pd.read_csv('/content/drive/MyDrive/preprocessed_ds.csv')\n",
        "\n",
        "# Separate features and labels\n",
        "features = df.drop(['label', 'Class'], axis=1)\n",
        "# features = df.drop(['label'], axis=1)\n",
        "labels = df['label']\n",
        "\n",
        "# Train-test split\n",
        "X_train, X_test, y_train, y_test = train_test_split(features, labels, test_size=0.2, random_state=42)"
      ]
    },
    {
      "cell_type": "code",
      "execution_count": null,
      "metadata": {
        "id": "CMwm8ovs1msv"
      },
      "outputs": [],
      "source": [
        "# Function to compute metrics\n",
        "def compute_metrics(y_true, y_pred, model_name):\n",
        "    accuracy = accuracy_score(y_true, y_pred)\n",
        "    precision = precision_score(y_true, y_pred, average='weighted')\n",
        "    recall = recall_score(y_true, y_pred, average='weighted')\n",
        "    f1 = f1_score(y_true, y_pred, average='weighted')\n",
        "    print([model_name, accuracy, precision, recall, f1])\n",
        "    return [model_name, accuracy, precision, recall, f1]\n",
        "\n",
        "metrics = []"
      ]
    },
    {
      "cell_type": "code",
      "execution_count": null,
      "metadata": {
        "id": "VHs9yF_z17FO"
      },
      "outputs": [],
      "source": [
        "# Hyperparameters\n",
        "n_estimators = 100\n",
        "random_state = 42\n",
        "max_iter = 2000"
      ]
    },
    {
      "cell_type": "code",
      "source": [
        "# 1. Random Forest\n",
        "from sklearn.model_selection import RandomizedSearchCV\n",
        "\n",
        "param_dist = {\n",
        "    'n_estimators': [50, 100],\n",
        "    'max_depth': [10, 20],\n",
        "    'min_samples_split': [2, 5],\n",
        "    'min_samples_leaf': [1, 2],\n",
        "    'max_features': ['sqrt', 'log2']\n",
        "}\n",
        "\n",
        "\n",
        "random_search = RandomizedSearchCV(\n",
        "    estimator=RandomForestClassifier(random_state=random_state),\n",
        "    param_distributions=param_dist,\n",
        "    n_iter=20,  # Reduced iterations\n",
        "    cv=5,\n",
        "    scoring='accuracy',\n",
        "    random_state=random_state,\n",
        "    n_jobs=-1  # Use all CPU cores\n",
        ")\n",
        "\n",
        "\n",
        "random_search.fit(X_train, y_train)\n",
        "best_rf = random_search.best_estimator_\n",
        "\n",
        "# Evaluate with the best parameters\n",
        "rf_pred = best_rf.predict(X_test)\n",
        "metrics.append(compute_metrics(y_test, rf_pred, 'Random Forest'))"
      ],
      "metadata": {
        "id": "d4wN_VIdPBqj"
      },
      "execution_count": null,
      "outputs": []
    },
    {
      "cell_type": "code",
      "execution_count": null,
      "metadata": {
        "colab": {
          "base_uri": "https://localhost:8080/"
        },
        "id": "5v3WFc8h15Sv",
        "outputId": "b92b114d-d8c9-40b1-cd1b-982032a85daf"
      },
      "outputs": [
        {
          "name": "stdout",
          "output_type": "stream",
          "text": [
            "['Gradient Boosting', 0.7759562841530054, 0.7884021985747613, 0.7759562841530054, 0.7771711627634387]\n"
          ]
        }
      ],
      "source": [
        "# 2. Gradient Boosting\n",
        "gb_clf = GradientBoostingClassifier(n_estimators=n_estimators, random_state=random_state)\n",
        "gb_clf.fit(X_train, y_train)\n",
        "gb_pred = gb_clf.predict(X_test)\n",
        "metrics.append(compute_metrics(y_test, gb_pred, 'Gradient Boosting'))"
      ]
    },
    {
      "cell_type": "code",
      "execution_count": null,
      "metadata": {
        "colab": {
          "base_uri": "https://localhost:8080/"
        },
        "id": "JhujdBmP2Kzu",
        "outputId": "88493630-debc-4fdc-8180-e3936f381fa7"
      },
      "outputs": [
        {
          "name": "stdout",
          "output_type": "stream",
          "text": [
            "['AdaBoost', 0.3005464480874317, 0.419008154314032, 0.3005464480874317, 0.28759171384398224]\n"
          ]
        }
      ],
      "source": [
        "# 3. AdaBoost\n",
        "ada_clf = AdaBoostClassifier(n_estimators=n_estimators, random_state=random_state)\n",
        "ada_clf.fit(X_train, y_train)\n",
        "ada_pred = ada_clf.predict(X_test)\n",
        "metrics.append(compute_metrics(y_test, ada_pred, 'AdaBoost'))"
      ]
    },
    {
      "cell_type": "code",
      "execution_count": null,
      "metadata": {
        "colab": {
          "base_uri": "https://localhost:8080/"
        },
        "id": "CH5vYehj2NuI",
        "outputId": "5d5668d2-3891-461b-cb15-67b1836ae859"
      },
      "outputs": [
        {
          "name": "stdout",
          "output_type": "stream",
          "text": [
            "['Voting Classifier', 0.7540983606557377, 0.8139391825257116, 0.7540983606557377, 0.7526929657644327]\n"
          ]
        }
      ],
      "source": [
        "# 4. Voting Classifier (Hard Voting)\n",
        "dt = DecisionTreeClassifier(random_state=random_state)\n",
        "nn = MLPClassifier(hidden_layer_sizes=(64,), max_iter=max_iter, random_state=random_state)\n",
        "svm = SVC(kernel='rbf', random_state=random_state)\n",
        "voting_clf = VotingClassifier(\n",
        "    estimators=[('dt', dt), ('nn', nn), ('svm', svm)],\n",
        "    voting='hard'\n",
        ")\n",
        "voting_clf.fit(X_train, y_train)\n",
        "voting_pred = voting_clf.predict(X_test)\n",
        "metrics.append(compute_metrics(y_test, voting_pred, 'Voting Classifier'))"
      ]
    },
    {
      "cell_type": "code",
      "source": [
        "#5. SVM\n",
        "from sklearn.model_selection import GridSearchCV\n",
        "\n",
        "param_grid = {\n",
        "    'C': [0.1, 1, 10, 100],\n",
        "    'gamma': [1, 0.1, 0.01, 0.001],\n",
        "    'kernel': ['rbf']\n",
        "}\n",
        "grid = GridSearchCV(SVC(), param_grid, refit=True, cv=5)\n",
        "grid.fit(X_train, y_train)\n",
        "\n",
        "# Use the best estimator\n",
        "svm_clf = grid.best_estimator_\n",
        "svm_pred = svm_clf.predict(X_test)\n",
        "metrics.append(compute_metrics(y_test, svm_pred, 'SVM'))"
      ],
      "metadata": {
        "colab": {
          "base_uri": "https://localhost:8080/"
        },
        "id": "dgU6Kb6RObcq",
        "outputId": "c5e4ce17-8b1f-47f0-936c-3bdd0426bf0a"
      },
      "execution_count": null,
      "outputs": [
        {
          "output_type": "stream",
          "name": "stdout",
          "text": [
            "['SVM', 0.9398907103825137, 0.9470041369752072, 0.9398907103825137, 0.9407548385801341]\n"
          ]
        }
      ]
    },
    {
      "cell_type": "code",
      "source": [
        "import pandas as pd\n",
        "import plotly.graph_objects as go\n",
        "\n",
        "# Your metrics data\n",
        "metrics = [\n",
        "    ['RF', 0.7650, 0.7740, 0.7650, 0.7645],\n",
        "    ['SVM', 0.9399, 0.9470, 0.9399, 0.9408],\n",
        "    ['CNN', 0.94, 0.94, 0.94, 0.94],\n",
        "    ['NN-Tree Ensemble', 0.9609, 0.97, 0.96, 0.96]\n",
        "]\n",
        "\n",
        "# Convert to DataFrame\n",
        "metrics_df = pd.DataFrame(metrics, columns=['Model', 'Accuracy', 'Precision', 'Recall', 'F1 Score'])\n",
        "metrics_df.set_index('Model', inplace=True)\n",
        "\n",
        "# Create the Plotly figure\n",
        "fig = go.Figure()\n",
        "\n",
        "# Define colors for each metric\n",
        "colors = [\"#636EFA\", \"#EF553B\", \"#00CC96\", \"#AB63FA\"]\n",
        "\n",
        "# Add a bar trace for each metric with text annotations\n",
        "for i, metric in enumerate(metrics_df.columns):\n",
        "    fig.add_trace(go.Bar(\n",
        "        x=metrics_df.index,\n",
        "        y=metrics_df[metric],\n",
        "        name=metric,\n",
        "        marker=dict(color=colors[i]),\n",
        "        width=0.2,\n",
        "        text=[f\"{val:.4f}\" for val in metrics_df[metric]],  # Add exact values\n",
        "        textposition=\"outside\"  # Position labels above bars\n",
        "    ))\n",
        "\n",
        "# Highlight SVM, CNN, and NN-Tree Ensemble with arrows to show differences\n",
        "annotations = [\n",
        "    dict(\n",
        "        x=\"SVM\", y=metrics_df.loc[\"SVM\", \"Accuracy\"] + 0.005,  # Slightly above the bar\n",
        "        text=\"SVM (≈94%)\", showarrow=True, arrowhead=2, ax=0, ay=-30\n",
        "    ),\n",
        "    dict(\n",
        "        x=\"CNN\", y=metrics_df.loc[\"CNN\", \"Accuracy\"] + 0.005,\n",
        "        text=\"CNN (≈94%)\", showarrow=True, arrowhead=2, ax=0, ay=-30\n",
        "    ),\n",
        "    dict(\n",
        "        x=\"NN-Tree Ensemble\", y=metrics_df.loc[\"NN-Tree Ensemble\", \"Accuracy\"] + 0.005,\n",
        "        text=\"NN (≈96%)\", showarrow=True, arrowhead=2, ax=0, ay=-30\n",
        "    )\n",
        "]\n",
        "\n",
        "# Update layout\n",
        "fig.update_layout(\n",
        "    title=\"Model Performance Metrics\",\n",
        "    xaxis_title=\"Model\",\n",
        "    yaxis_title=\"Score\",\n",
        "    barmode=\"group\",\n",
        "    bargap=0.3,\n",
        "    bargroupgap=0.15,\n",
        "    legend_title=\"Metrics\",\n",
        "    template=\"plotly\",\n",
        "    annotations=annotations  # Add annotations\n",
        ")\n",
        "\n",
        "# Show the plot\n",
        "fig.show()\n"
      ],
      "metadata": {
        "colab": {
          "base_uri": "https://localhost:8080/",
          "height": 542
        },
        "id": "mqV1I_WewRIl",
        "outputId": "7d413b54-6c53-4f8b-a94a-7c32aedbb9e3"
      },
      "execution_count": null,
      "outputs": [
        {
          "output_type": "display_data",
          "data": {
            "text/html": [
              "<html>\n",
              "<head><meta charset=\"utf-8\" /></head>\n",
              "<body>\n",
              "    <div>            <script src=\"https://cdnjs.cloudflare.com/ajax/libs/mathjax/2.7.5/MathJax.js?config=TeX-AMS-MML_SVG\"></script><script type=\"text/javascript\">if (window.MathJax && window.MathJax.Hub && window.MathJax.Hub.Config) {window.MathJax.Hub.Config({SVG: {font: \"STIX-Web\"}});}</script>                <script type=\"text/javascript\">window.PlotlyConfig = {MathJaxConfig: 'local'};</script>\n",
              "        <script charset=\"utf-8\" src=\"https://cdn.plot.ly/plotly-2.35.2.min.js\"></script>                <div id=\"5e54fb12-42e5-4372-a022-f068023672f4\" class=\"plotly-graph-div\" style=\"height:525px; width:100%;\"></div>            <script type=\"text/javascript\">                                    window.PLOTLYENV=window.PLOTLYENV || {};                                    if (document.getElementById(\"5e54fb12-42e5-4372-a022-f068023672f4\")) {                    Plotly.newPlot(                        \"5e54fb12-42e5-4372-a022-f068023672f4\",                        [{\"marker\":{\"color\":\"#636EFA\"},\"name\":\"Accuracy\",\"text\":[\"0.7650\",\"0.9399\",\"0.9400\",\"0.9609\"],\"textposition\":\"outside\",\"width\":0.2,\"x\":[\"RF\",\"SVM\",\"CNN\",\"NN-Tree Ensemble\"],\"y\":[0.765,0.9399,0.94,0.9609],\"type\":\"bar\"},{\"marker\":{\"color\":\"#EF553B\"},\"name\":\"Precision\",\"text\":[\"0.7740\",\"0.9470\",\"0.9400\",\"0.9700\"],\"textposition\":\"outside\",\"width\":0.2,\"x\":[\"RF\",\"SVM\",\"CNN\",\"NN-Tree Ensemble\"],\"y\":[0.774,0.947,0.94,0.97],\"type\":\"bar\"},{\"marker\":{\"color\":\"#00CC96\"},\"name\":\"Recall\",\"text\":[\"0.7650\",\"0.9399\",\"0.9400\",\"0.9600\"],\"textposition\":\"outside\",\"width\":0.2,\"x\":[\"RF\",\"SVM\",\"CNN\",\"NN-Tree Ensemble\"],\"y\":[0.765,0.9399,0.94,0.96],\"type\":\"bar\"},{\"marker\":{\"color\":\"#AB63FA\"},\"name\":\"F1 Score\",\"text\":[\"0.7645\",\"0.9408\",\"0.9400\",\"0.9600\"],\"textposition\":\"outside\",\"width\":0.2,\"x\":[\"RF\",\"SVM\",\"CNN\",\"NN-Tree Ensemble\"],\"y\":[0.7645,0.9408,0.94,0.96],\"type\":\"bar\"}],                        {\"template\":{\"data\":{\"histogram2dcontour\":[{\"type\":\"histogram2dcontour\",\"colorbar\":{\"outlinewidth\":0,\"ticks\":\"\"},\"colorscale\":[[0.0,\"#0d0887\"],[0.1111111111111111,\"#46039f\"],[0.2222222222222222,\"#7201a8\"],[0.3333333333333333,\"#9c179e\"],[0.4444444444444444,\"#bd3786\"],[0.5555555555555556,\"#d8576b\"],[0.6666666666666666,\"#ed7953\"],[0.7777777777777778,\"#fb9f3a\"],[0.8888888888888888,\"#fdca26\"],[1.0,\"#f0f921\"]]}],\"choropleth\":[{\"type\":\"choropleth\",\"colorbar\":{\"outlinewidth\":0,\"ticks\":\"\"}}],\"histogram2d\":[{\"type\":\"histogram2d\",\"colorbar\":{\"outlinewidth\":0,\"ticks\":\"\"},\"colorscale\":[[0.0,\"#0d0887\"],[0.1111111111111111,\"#46039f\"],[0.2222222222222222,\"#7201a8\"],[0.3333333333333333,\"#9c179e\"],[0.4444444444444444,\"#bd3786\"],[0.5555555555555556,\"#d8576b\"],[0.6666666666666666,\"#ed7953\"],[0.7777777777777778,\"#fb9f3a\"],[0.8888888888888888,\"#fdca26\"],[1.0,\"#f0f921\"]]}],\"heatmap\":[{\"type\":\"heatmap\",\"colorbar\":{\"outlinewidth\":0,\"ticks\":\"\"},\"colorscale\":[[0.0,\"#0d0887\"],[0.1111111111111111,\"#46039f\"],[0.2222222222222222,\"#7201a8\"],[0.3333333333333333,\"#9c179e\"],[0.4444444444444444,\"#bd3786\"],[0.5555555555555556,\"#d8576b\"],[0.6666666666666666,\"#ed7953\"],[0.7777777777777778,\"#fb9f3a\"],[0.8888888888888888,\"#fdca26\"],[1.0,\"#f0f921\"]]}],\"heatmapgl\":[{\"type\":\"heatmapgl\",\"colorbar\":{\"outlinewidth\":0,\"ticks\":\"\"},\"colorscale\":[[0.0,\"#0d0887\"],[0.1111111111111111,\"#46039f\"],[0.2222222222222222,\"#7201a8\"],[0.3333333333333333,\"#9c179e\"],[0.4444444444444444,\"#bd3786\"],[0.5555555555555556,\"#d8576b\"],[0.6666666666666666,\"#ed7953\"],[0.7777777777777778,\"#fb9f3a\"],[0.8888888888888888,\"#fdca26\"],[1.0,\"#f0f921\"]]}],\"contourcarpet\":[{\"type\":\"contourcarpet\",\"colorbar\":{\"outlinewidth\":0,\"ticks\":\"\"}}],\"contour\":[{\"type\":\"contour\",\"colorbar\":{\"outlinewidth\":0,\"ticks\":\"\"},\"colorscale\":[[0.0,\"#0d0887\"],[0.1111111111111111,\"#46039f\"],[0.2222222222222222,\"#7201a8\"],[0.3333333333333333,\"#9c179e\"],[0.4444444444444444,\"#bd3786\"],[0.5555555555555556,\"#d8576b\"],[0.6666666666666666,\"#ed7953\"],[0.7777777777777778,\"#fb9f3a\"],[0.8888888888888888,\"#fdca26\"],[1.0,\"#f0f921\"]]}],\"surface\":[{\"type\":\"surface\",\"colorbar\":{\"outlinewidth\":0,\"ticks\":\"\"},\"colorscale\":[[0.0,\"#0d0887\"],[0.1111111111111111,\"#46039f\"],[0.2222222222222222,\"#7201a8\"],[0.3333333333333333,\"#9c179e\"],[0.4444444444444444,\"#bd3786\"],[0.5555555555555556,\"#d8576b\"],[0.6666666666666666,\"#ed7953\"],[0.7777777777777778,\"#fb9f3a\"],[0.8888888888888888,\"#fdca26\"],[1.0,\"#f0f921\"]]}],\"mesh3d\":[{\"type\":\"mesh3d\",\"colorbar\":{\"outlinewidth\":0,\"ticks\":\"\"}}],\"scatter\":[{\"fillpattern\":{\"fillmode\":\"overlay\",\"size\":10,\"solidity\":0.2},\"type\":\"scatter\"}],\"parcoords\":[{\"type\":\"parcoords\",\"line\":{\"colorbar\":{\"outlinewidth\":0,\"ticks\":\"\"}}}],\"scatterpolargl\":[{\"type\":\"scatterpolargl\",\"marker\":{\"colorbar\":{\"outlinewidth\":0,\"ticks\":\"\"}}}],\"bar\":[{\"error_x\":{\"color\":\"#2a3f5f\"},\"error_y\":{\"color\":\"#2a3f5f\"},\"marker\":{\"line\":{\"color\":\"#E5ECF6\",\"width\":0.5},\"pattern\":{\"fillmode\":\"overlay\",\"size\":10,\"solidity\":0.2}},\"type\":\"bar\"}],\"scattergeo\":[{\"type\":\"scattergeo\",\"marker\":{\"colorbar\":{\"outlinewidth\":0,\"ticks\":\"\"}}}],\"scatterpolar\":[{\"type\":\"scatterpolar\",\"marker\":{\"colorbar\":{\"outlinewidth\":0,\"ticks\":\"\"}}}],\"histogram\":[{\"marker\":{\"pattern\":{\"fillmode\":\"overlay\",\"size\":10,\"solidity\":0.2}},\"type\":\"histogram\"}],\"scattergl\":[{\"type\":\"scattergl\",\"marker\":{\"colorbar\":{\"outlinewidth\":0,\"ticks\":\"\"}}}],\"scatter3d\":[{\"type\":\"scatter3d\",\"line\":{\"colorbar\":{\"outlinewidth\":0,\"ticks\":\"\"}},\"marker\":{\"colorbar\":{\"outlinewidth\":0,\"ticks\":\"\"}}}],\"scattermapbox\":[{\"type\":\"scattermapbox\",\"marker\":{\"colorbar\":{\"outlinewidth\":0,\"ticks\":\"\"}}}],\"scatterternary\":[{\"type\":\"scatterternary\",\"marker\":{\"colorbar\":{\"outlinewidth\":0,\"ticks\":\"\"}}}],\"scattercarpet\":[{\"type\":\"scattercarpet\",\"marker\":{\"colorbar\":{\"outlinewidth\":0,\"ticks\":\"\"}}}],\"carpet\":[{\"aaxis\":{\"endlinecolor\":\"#2a3f5f\",\"gridcolor\":\"white\",\"linecolor\":\"white\",\"minorgridcolor\":\"white\",\"startlinecolor\":\"#2a3f5f\"},\"baxis\":{\"endlinecolor\":\"#2a3f5f\",\"gridcolor\":\"white\",\"linecolor\":\"white\",\"minorgridcolor\":\"white\",\"startlinecolor\":\"#2a3f5f\"},\"type\":\"carpet\"}],\"table\":[{\"cells\":{\"fill\":{\"color\":\"#EBF0F8\"},\"line\":{\"color\":\"white\"}},\"header\":{\"fill\":{\"color\":\"#C8D4E3\"},\"line\":{\"color\":\"white\"}},\"type\":\"table\"}],\"barpolar\":[{\"marker\":{\"line\":{\"color\":\"#E5ECF6\",\"width\":0.5},\"pattern\":{\"fillmode\":\"overlay\",\"size\":10,\"solidity\":0.2}},\"type\":\"barpolar\"}],\"pie\":[{\"automargin\":true,\"type\":\"pie\"}]},\"layout\":{\"autotypenumbers\":\"strict\",\"colorway\":[\"#636efa\",\"#EF553B\",\"#00cc96\",\"#ab63fa\",\"#FFA15A\",\"#19d3f3\",\"#FF6692\",\"#B6E880\",\"#FF97FF\",\"#FECB52\"],\"font\":{\"color\":\"#2a3f5f\"},\"hovermode\":\"closest\",\"hoverlabel\":{\"align\":\"left\"},\"paper_bgcolor\":\"white\",\"plot_bgcolor\":\"#E5ECF6\",\"polar\":{\"bgcolor\":\"#E5ECF6\",\"angularaxis\":{\"gridcolor\":\"white\",\"linecolor\":\"white\",\"ticks\":\"\"},\"radialaxis\":{\"gridcolor\":\"white\",\"linecolor\":\"white\",\"ticks\":\"\"}},\"ternary\":{\"bgcolor\":\"#E5ECF6\",\"aaxis\":{\"gridcolor\":\"white\",\"linecolor\":\"white\",\"ticks\":\"\"},\"baxis\":{\"gridcolor\":\"white\",\"linecolor\":\"white\",\"ticks\":\"\"},\"caxis\":{\"gridcolor\":\"white\",\"linecolor\":\"white\",\"ticks\":\"\"}},\"coloraxis\":{\"colorbar\":{\"outlinewidth\":0,\"ticks\":\"\"}},\"colorscale\":{\"sequential\":[[0.0,\"#0d0887\"],[0.1111111111111111,\"#46039f\"],[0.2222222222222222,\"#7201a8\"],[0.3333333333333333,\"#9c179e\"],[0.4444444444444444,\"#bd3786\"],[0.5555555555555556,\"#d8576b\"],[0.6666666666666666,\"#ed7953\"],[0.7777777777777778,\"#fb9f3a\"],[0.8888888888888888,\"#fdca26\"],[1.0,\"#f0f921\"]],\"sequentialminus\":[[0.0,\"#0d0887\"],[0.1111111111111111,\"#46039f\"],[0.2222222222222222,\"#7201a8\"],[0.3333333333333333,\"#9c179e\"],[0.4444444444444444,\"#bd3786\"],[0.5555555555555556,\"#d8576b\"],[0.6666666666666666,\"#ed7953\"],[0.7777777777777778,\"#fb9f3a\"],[0.8888888888888888,\"#fdca26\"],[1.0,\"#f0f921\"]],\"diverging\":[[0,\"#8e0152\"],[0.1,\"#c51b7d\"],[0.2,\"#de77ae\"],[0.3,\"#f1b6da\"],[0.4,\"#fde0ef\"],[0.5,\"#f7f7f7\"],[0.6,\"#e6f5d0\"],[0.7,\"#b8e186\"],[0.8,\"#7fbc41\"],[0.9,\"#4d9221\"],[1,\"#276419\"]]},\"xaxis\":{\"gridcolor\":\"white\",\"linecolor\":\"white\",\"ticks\":\"\",\"title\":{\"standoff\":15},\"zerolinecolor\":\"white\",\"automargin\":true,\"zerolinewidth\":2},\"yaxis\":{\"gridcolor\":\"white\",\"linecolor\":\"white\",\"ticks\":\"\",\"title\":{\"standoff\":15},\"zerolinecolor\":\"white\",\"automargin\":true,\"zerolinewidth\":2},\"scene\":{\"xaxis\":{\"backgroundcolor\":\"#E5ECF6\",\"gridcolor\":\"white\",\"linecolor\":\"white\",\"showbackground\":true,\"ticks\":\"\",\"zerolinecolor\":\"white\",\"gridwidth\":2},\"yaxis\":{\"backgroundcolor\":\"#E5ECF6\",\"gridcolor\":\"white\",\"linecolor\":\"white\",\"showbackground\":true,\"ticks\":\"\",\"zerolinecolor\":\"white\",\"gridwidth\":2},\"zaxis\":{\"backgroundcolor\":\"#E5ECF6\",\"gridcolor\":\"white\",\"linecolor\":\"white\",\"showbackground\":true,\"ticks\":\"\",\"zerolinecolor\":\"white\",\"gridwidth\":2}},\"shapedefaults\":{\"line\":{\"color\":\"#2a3f5f\"}},\"annotationdefaults\":{\"arrowcolor\":\"#2a3f5f\",\"arrowhead\":0,\"arrowwidth\":1},\"geo\":{\"bgcolor\":\"white\",\"landcolor\":\"#E5ECF6\",\"subunitcolor\":\"white\",\"showland\":true,\"showlakes\":true,\"lakecolor\":\"white\"},\"title\":{\"x\":0.05},\"mapbox\":{\"style\":\"light\"}}},\"title\":{\"text\":\"Model Performance Metrics\"},\"xaxis\":{\"title\":{\"text\":\"Model\"}},\"yaxis\":{\"title\":{\"text\":\"Score\"}},\"barmode\":\"group\",\"bargap\":0.3,\"bargroupgap\":0.15,\"legend\":{\"title\":{\"text\":\"Metrics\"}},\"annotations\":[{\"arrowhead\":2,\"ax\":0,\"ay\":-30,\"showarrow\":true,\"text\":\"SVM (≈94%)\",\"x\":\"SVM\",\"y\":0.9449},{\"arrowhead\":2,\"ax\":0,\"ay\":-30,\"showarrow\":true,\"text\":\"CNN (≈94%)\",\"x\":\"CNN\",\"y\":0.945},{\"arrowhead\":2,\"ax\":0,\"ay\":-30,\"showarrow\":true,\"text\":\"NN (≈96%)\",\"x\":\"NN-Tree Ensemble\",\"y\":0.9659}]},                        {\"responsive\": true}                    ).then(function(){\n",
              "                            \n",
              "var gd = document.getElementById('5e54fb12-42e5-4372-a022-f068023672f4');\n",
              "var x = new MutationObserver(function (mutations, observer) {{\n",
              "        var display = window.getComputedStyle(gd).display;\n",
              "        if (!display || display === 'none') {{\n",
              "            console.log([gd, 'removed!']);\n",
              "            Plotly.purge(gd);\n",
              "            observer.disconnect();\n",
              "        }}\n",
              "}});\n",
              "\n",
              "// Listen for the removal of the full notebook cells\n",
              "var notebookContainer = gd.closest('#notebook-container');\n",
              "if (notebookContainer) {{\n",
              "    x.observe(notebookContainer, {childList: true});\n",
              "}}\n",
              "\n",
              "// Listen for the clearing of the current output cell\n",
              "var outputEl = gd.closest('.output');\n",
              "if (outputEl) {{\n",
              "    x.observe(outputEl, {childList: true});\n",
              "}}\n",
              "\n",
              "                        })                };                            </script>        </div>\n",
              "</body>\n",
              "</html>"
            ]
          },
          "metadata": {}
        }
      ]
    }
  ],
  "metadata": {
    "colab": {
      "provenance": [],
      "authorship_tag": "ABX9TyMi9tfMoZ8bvC9C6OAfd80w",
      "include_colab_link": true
    },
    "kernelspec": {
      "display_name": "Python 3",
      "name": "python3"
    },
    "language_info": {
      "name": "python"
    }
  },
  "nbformat": 4,
  "nbformat_minor": 0
}
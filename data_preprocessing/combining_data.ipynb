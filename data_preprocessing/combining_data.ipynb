{
 "cells": [
  {
   "cell_type": "code",
   "execution_count": 2,
   "metadata": {},
   "outputs": [
    {
     "name": "stdout",
     "output_type": "stream",
     "text": [
      "         x  Enterobacter_aerogenes_1_s1  Enterobacter_aerogenes_1_s2  \\\n",
      "0  542.245                        462.8                        463.8   \n",
      "1  542.328                        464.4                        460.6   \n",
      "2  542.411                        464.0                        462.6   \n",
      "3  542.493                        462.6                        461.0   \n",
      "4  542.576                        461.8                        461.0   \n",
      "\n",
      "   Enterobacter_aerogenes_1_s3  Enterobacter_aerogenes_1_s4  \\\n",
      "0                        464.6                        463.0   \n",
      "1                        462.4                        464.2   \n",
      "2                        462.4                        465.0   \n",
      "3                        460.4                        463.0   \n",
      "4                        461.4                        467.4   \n",
      "\n",
      "   Enterobacter_aerogenes_1_s5  Enterobacter_aerogenes_1_s6  \\\n",
      "0                        466.8                        464.2   \n",
      "1                        468.2                        467.8   \n",
      "2                        467.6                        466.2   \n",
      "3                        463.8                        466.2   \n",
      "4                        465.8                        466.4   \n",
      "\n",
      "   Enterobacter_aerogenes_1_s7  Enterobacter_aerogenes_1_s8  \\\n",
      "0                        467.8                        466.8   \n",
      "1                        464.8                        462.8   \n",
      "2                        465.4                        464.8   \n",
      "3                        465.2                        466.0   \n",
      "4                        467.2                        467.0   \n",
      "\n",
      "   Enterobacter_aerogenes_1_s9  ...  S_abony_3_s23  S_abony_3_s24  \\\n",
      "0                        466.0  ...          505.8          509.6   \n",
      "1                        467.8  ...          497.6          509.6   \n",
      "2                        471.4  ...          501.8          513.6   \n",
      "3                        469.8  ...          502.8          507.4   \n",
      "4                        469.2  ...          502.0          508.6   \n",
      "\n",
      "   S_abony_3_s25  S_abony_3_s26  S_abony_3_s27  S_abony_3_s28  S_abony_3_s29  \\\n",
      "0          552.0          511.4          504.8          502.8          479.6   \n",
      "1          550.2          517.8          503.8          500.4          480.4   \n",
      "2          546.6          514.6          503.2          497.2          483.4   \n",
      "3          547.4          517.8          501.6          493.2          480.0   \n",
      "4          547.8          510.6          499.2          497.2          477.6   \n",
      "\n",
      "   S_abony_3_s30  S_abony_3_s31  S_abony_3_s32  \n",
      "0          477.8          486.6          487.0  \n",
      "1          480.0          483.6          490.6  \n",
      "2          478.6          486.2          487.0  \n",
      "3          472.8          486.0          489.2  \n",
      "4          472.8          481.4          489.0  \n",
      "\n",
      "[5 rows x 942 columns]\n"
     ]
    }
   ],
   "source": [
    "import pandas as pd\n",
    "import glob\n",
    "import os\n",
    "\n",
    "# Specify the folder containing the .txt files\n",
    "folder_path = './9_Strains'  # Replace with your folder path\n",
    "\n",
    "# Use glob to get all .txt files in the folder\n",
    "txt_files = glob.glob(os.path.join(folder_path, '*.txt'))\n",
    "\n",
    "# Initialize an empty DataFrame\n",
    "combined_df = pd.DataFrame()\n",
    "\n",
    "# Loop through each file and read into a DataFrame\n",
    "for file in txt_files:\n",
    "    try:\n",
    "        # Read the txt file into a DataFrame\n",
    "        df = pd.read_csv(file, sep='\\t', header=None)  # Assuming tab-separated values\n",
    "        # Get the base filename without extension\n",
    "        base_filename = os.path.splitext(os.path.basename(file))[0]\n",
    "        # Rename columns to avoid conflicts if combining\n",
    "        df.columns = ['x'] + [f'{base_filename}_s{i}' for i in range(1, df.shape[1])]\n",
    "        # Merge into the combined DataFrame\n",
    "        if combined_df.empty:\n",
    "            combined_df = df\n",
    "        else:\n",
    "            combined_df = pd.merge(combined_df, df, on='x', how='outer')\n",
    "    except Exception as e:\n",
    "        print(f\"Error processing file {file}: {e}\")\n",
    "\n",
    "# Replace NaN values with the median of each column\n",
    "combined_df.fillna(combined_df.median(), inplace=True)\n",
    "\n",
    "# View or save the combined DataFrame\n",
    "print(combined_df.head())  # To check the top few rows\n",
    "\n",
    "# Save to a new CSV file\n",
    "os.makedirs('csv_data', exist_ok=True)  # Ensure the directory exists\n",
    "combined_df.to_csv('csv_data/combined_spectra.csv', index=False)\n"
   ]
  },
  {
   "cell_type": "code",
   "execution_count": 1,
   "metadata": {},
   "outputs": [
    {
     "name": "stdout",
     "output_type": "stream",
     "text": [
      "CSV file converted to ./csv_data/combined_spectra.mat\n"
     ]
    }
   ],
   "source": [
    "import pandas as pd\n",
    "from scipy.io import savemat\n",
    "\n",
    "# Step 1: Read CSV file into a Pandas DataFrame\n",
    "csv_file = './csv_data/combined_spectra.csv'  # Replace with your CSV file path\n",
    "data = pd.read_csv(csv_file)\n",
    "\n",
    "# Step 2: Convert DataFrame to a dictionary\n",
    "# MATLAB .mat files store data in dictionaries (key-value pairs).\n",
    "# The key will be the variable name inside the .mat file.\n",
    "data_dict = {'data': data.to_dict(orient='list')}  # Convert the DataFrame into a dictionary\n",
    "\n",
    "# Step 3: Save the dictionary to a .mat file\n",
    "mat_file = './csv_data/combined_spectra.mat'  # Desired output .mat file name\n",
    "savemat(mat_file, data_dict)\n",
    "\n",
    "print(f\"CSV file converted to {mat_file}\")\n"
   ]
  },
  {
   "cell_type": "code",
   "execution_count": 1,
   "metadata": {},
   "outputs": [
    {
     "name": "stdout",
     "output_type": "stream",
     "text": [
      "Largest value in the DataFrame: 3269.75\n",
      "Location of the largest value: Row 1076, Column 'Eschericia_coli_3_s13'\n",
      "raman shift 630.427\n"
     ]
    }
   ],
   "source": [
    "import pandas as pd\n",
    "\n",
    "# Sample DataFrame\n",
    "df = pd.read_csv(\"./csv_data/combined_spectra.csv\")\n",
    "# Step 1: Find the maximum value in the DataFrame\n",
    "max_value = df.max().max()\n",
    "\n",
    "# Step 2: Find the location (index and column) of the maximum value\n",
    "# Use stack to reshape the DataFrame and then find the index of the max value\n",
    "location = df.stack().idxmax()\n",
    "\n",
    "# Extract the row and column index from the location\n",
    "row_index, column_index = location\n",
    "\n",
    "# Output results\n",
    "print(f\"Largest value in the DataFrame: {max_value}\")\n",
    "print(f\"Location of the largest value: Row {row_index}, Column '{column_index}'\")\n",
    "print(f\"raman shift {df.iloc[row_index, 0]}\")\n"
   ]
  },
  {
   "cell_type": "code",
   "execution_count": 2,
   "metadata": {},
   "outputs": [
    {
     "data": {
      "text/plain": [
       "x                              630.427\n",
       "Enterobacter_aerogenes_1_s1    584.600\n",
       "Enterobacter_aerogenes_1_s2    584.600\n",
       "Enterobacter_aerogenes_1_s3    576.600\n",
       "Enterobacter_aerogenes_1_s4    563.200\n",
       "Name: 1076, dtype: float64"
      ]
     },
     "execution_count": 2,
     "metadata": {},
     "output_type": "execute_result"
    }
   ],
   "source": [
    "peak_band = df.iloc[1076, :]\n",
    "peak_band.head()"
   ]
  },
  {
   "cell_type": "code",
   "execution_count": 6,
   "metadata": {},
   "outputs": [],
   "source": [
    "import pandas as pd\n",
    "import glob\n",
    "import os\n",
    "from pathlib import Path\n",
    "\n",
    "# List of TXT file names\n",
    "txt_files = [\"./9_Strains/setA/Enterobacter_aerogenes_1.txt\",\n",
    "            './9_Strains/setA/Enterococcus_faecalis_1.txt',\n",
    "            './9_Strains/setA/Eschericia_coli_1.txt',\n",
    "            './9_Strains/setA/Listeria_innocua_1.txt', \n",
    "            './9_Strains/setA/Listeria_monocytogenes_1.txt', \n",
    "            './9_Strains/setA/Rhodococcus_equii_1.txt', \n",
    "            './9_Strains/setA/S_abony_1.txt', \n",
    "            './9_Strains/setA/Shigella_boydi_1.txt', \n",
    "            './9_Strains/setA/Staphylococcus_aureus_1.txt']\n",
    "\n",
    "# Initialize lists to store data\n",
    "spectra_list = []\n",
    "uspectra_list = []\n",
    "x_axis_list = []\n",
    "labels_list = []\n",
    "columns = 5\n",
    "flag = True\n",
    "# Process each file\n",
    "for file_name in txt_files:\n",
    "    # Read the TXT file\n",
    "    data = pd.read_csv(file_name, delimiter='\\t', header=None)  # Adjust delimiter if needed\n",
    "    \n",
    "    # Extract x-axis and spectra\n",
    "    x_axis = data.iloc[:, 0]  # First column\n",
    "    spectra = data.iloc[:, 1:columns]  # Next 4 columns (change 5 if needed for different number of spectra)\n",
    "    uspectra = data.iloc[:, 6]  # For unknown data\n",
    "    # Append data to lists\n",
    "    if flag:\n",
    "        x_axis_list.append(x_axis)\n",
    "        flag = False\n",
    "    spectra_list.append(spectra)\n",
    "    uspectra_list.append(uspectra)\n",
    "    # labels_list.append([file_name] * len(x_axis))\n",
    "    fname = Path(file_name).stem[:-2]\n",
    "    for i in range(1,columns):\n",
    "        labels_list.append(f\"{fname}_{i}\")\n",
    "\n",
    "# Combine all data\n",
    "x_axis_df = pd.concat(x_axis_list, axis=1)\n",
    "spectra_df = pd.concat(spectra_list, axis=1)\n",
    "uspectra_df = pd.concat(uspectra_list, axis=1)\n",
    "labels_df = pd.DataFrame(labels_list) # Flatten and reset index\n",
    "\n",
    "# Save DataFrames to CSV files\n",
    "x_axis_df.to_csv('./csv_data2/x_axis.csv', index=False, header=False)\n",
    "spectra_df.to_csv('./csv_data2/known_spectra.csv', index=False, header=False)\n",
    "uspectra_df.to_csv('./csv_data2/unknown_spectra.csv', index=False, header=False)\n",
    "labels_df.to_csv('./csv_data2/labels.csv', index=False, header=False)\n"
   ]
  },
  {
   "cell_type": "code",
   "execution_count": 9,
   "metadata": {},
   "outputs": [
    {
     "name": "stdout",
     "output_type": "stream",
     "text": [
      "shape :  (36, 1650)\n",
      "[[462.8   464.4   464.    ... 462.2   460.6   460.8  ]\n",
      " [463.8   460.6   462.6   ... 461.6   458.2   455.8  ]\n",
      " [464.6   462.4   462.4   ... 460.2   457.6   457.4  ]\n",
      " ...\n",
      " [480.714 485.    479.857 ... 481.714 476.857 477.714]\n",
      " [488.571 488.286 491.    ... 473.286 470.143 471.571]\n",
      " [513.143 508.429 509.429 ... 487.143 486.857 483.   ]]\n"
     ]
    }
   ],
   "source": [
    "import numpy as np\n",
    "\n",
    "\n",
    "xorg = np.genfromtxt(\"./csv_data2/x_axis.csv\",delimiter=\",\")\n",
    "Akn = np.genfromtxt(\"./csv_data2/known_spectra.csv\",delimiter=\",\")\n",
    "\n",
    "Akn = Akn.T\n",
    "rng = np.arange(620,640)\n",
    "xc = xorg[rng]\n",
    "Ac = Akn[:,rng]\n",
    "\n",
    "print(\"shape : \", Akn.shape)\n",
    "print(Akn)"
   ]
  },
  {
   "cell_type": "code",
   "execution_count": 3,
   "metadata": {},
   "outputs": [],
   "source": [
    "import os\n",
    "import pandas as pd\n",
    "\n",
    "# Path to the folder containing the .txt files\n",
    "folder_path = './9_Strains/setB'\n",
    "\n",
    "# List all .txt files in the folder\n",
    "txt_files = [f for f in os.listdir(folder_path) if f.endswith('.txt')]\n",
    "\n",
    "# List to hold the spectra data\n",
    "spectra_data = []\n",
    "\n",
    "# Iterate over each .txt file\n",
    "for txt_file in txt_files:\n",
    "    # Read the content of the txt file into a DataFrame\n",
    "    file_path = os.path.join(folder_path, txt_file)\n",
    "    df = pd.read_csv(file_path, delim_whitespace=True, header=None)\n",
    "    \n",
    "    # Transpose the DataFrame so each spectrum is a single row\n",
    "    spectrum = df.iloc[:, 1:].transpose()  # Exclude the first column (x-axis)\n",
    "    \n",
    "    # Add the label (filename without extension) as the last column\n",
    "    spectrum['label'] = txt_file.split('.txt')[0]\n",
    "    \n",
    "    # Append the spectrum to the list\n",
    "    spectra_data.append(spectrum)\n",
    "\n",
    "# Concatenate all spectra into a single DataFrame\n",
    "final_df = pd.concat(spectra_data, ignore_index=True)\n",
    "\n",
    "# Save the final DataFrame to a CSV file\n",
    "final_df.to_csv('./csv_data3/test.csv', index=False)\n"
   ]
  },
  {
   "cell_type": "code",
   "execution_count": 8,
   "metadata": {},
   "outputs": [
    {
     "name": "stdout",
     "output_type": "stream",
     "text": [
      "Bacteria to Numeric Label Mapping:\n",
      "Enterobacter_aerogenes: 0\n",
      "Enterococcus_faecalis: 1\n",
      "Eschericia_coli: 2\n",
      "Listeria_innocua: 3\n",
      "Listeria_monocytogenes: 4\n",
      "Rhodococcus_equii: 5\n",
      "Shigella_boydi: 6\n",
      "Staphylococcus_aureus: 7\n",
      "S_abony: 8\n"
     ]
    }
   ],
   "source": [
    "import pandas as pd\n",
    "import re\n",
    "\n",
    "# Load the CSV file into a DataFrame\n",
    "csv_file = './csv_data3/validate.csv'\n",
    "df = pd.read_csv(csv_file)\n",
    "\n",
    "# Extract the last column (bacteria names)\n",
    "last_column = df.iloc[:, -1]\n",
    "\n",
    "# Create a function to remove the numeric part after the underscore\n",
    "def clean_bacteria_name(name):\n",
    "    # Remove the part after the last underscore (e.g., _1, _2, _3)\n",
    "    return re.sub(r'_\\d+$', '', name)\n",
    "\n",
    "# Apply the function to clean the bacteria names\n",
    "cleaned_names = last_column.apply(clean_bacteria_name)\n",
    "\n",
    "# Create a mapping from unique bacteria names to numeric labels\n",
    "bacteria_labels = {name: idx for idx, name in enumerate(cleaned_names.unique())}\n",
    "\n",
    "# Replace the cleaned bacteria names with their corresponding numeric labels\n",
    "df.iloc[:, -1] = cleaned_names.map(bacteria_labels)\n",
    "\n",
    "# Save the updated DataFrame to a new CSV file\n",
    "df.to_csv('./csv_data3/BS_validate.csv', index=False)\n",
    "\n",
    "# Optional: If you want to print the mapping\n",
    "print(\"Bacteria to Numeric Label Mapping:\")\n",
    "for bacteria, label in bacteria_labels.items():\n",
    "    print(f\"{bacteria}: {label}\")\n"
   ]
  }
 ],
 "metadata": {
  "kernelspec": {
   "display_name": "Python 3",
   "language": "python",
   "name": "python3"
  },
  "language_info": {
   "codemirror_mode": {
    "name": "ipython",
    "version": 3
   },
   "file_extension": ".py",
   "mimetype": "text/x-python",
   "name": "python",
   "nbconvert_exporter": "python",
   "pygments_lexer": "ipython3",
   "version": "3.11.5"
  }
 },
 "nbformat": 4,
 "nbformat_minor": 2
}
